{
 "cells": [
  {
   "cell_type": "code",
   "execution_count": 4,
   "id": "71d2afbc",
   "metadata": {},
   "outputs": [],
   "source": [
    "import speech_recognition as sr"
   ]
  },
  {
   "cell_type": "code",
   "execution_count": null,
   "id": "46268246",
   "metadata": {},
   "outputs": [],
   "source": [
    "#installed package speech_recognition"
   ]
  },
  {
   "cell_type": "code",
   "execution_count": 7,
   "id": "2c118572",
   "metadata": {},
   "outputs": [
    {
     "name": "stdout",
     "output_type": "stream",
     "text": [
      "tell now :\n"
     ]
    }
   ],
   "source": [
    "rj=sr.Recognizer()\n",
    "with sr.Microphone() as source:\n",
    "    print(\"tell now :\")\n",
    "    audio=rj.listen(source)"
   ]
  },
  {
   "cell_type": "code",
   "execution_count": null,
   "id": "d6eafab0",
   "metadata": {},
   "outputs": [],
   "source": [
    "#Currently, we must speak; therefore, input is required."
   ]
  },
  {
   "cell_type": "code",
   "execution_count": 8,
   "id": "5f4d0b77",
   "metadata": {},
   "outputs": [
    {
     "name": "stdout",
     "output_type": "stream",
     "text": [
      "you just toldTexas is a beautiful state\n"
     ]
    }
   ],
   "source": [
    "try:\n",
    "    print(\"you just told\"+ rj.recognize_google(audio)) \n",
    "except sr.UnknownValueError:\n",
    "    print(\"audio is unavaialable\")\n",
    "except sr.ExceptError as e:\n",
    "    print(\"no result; {0}\".format(e))"
   ]
  },
  {
   "cell_type": "code",
   "execution_count": null,
   "id": "757caa0c",
   "metadata": {},
   "outputs": [],
   "source": [
    "# Based on the information we gave, we received the speech."
   ]
  }
 ],
 "metadata": {
  "kernelspec": {
   "display_name": "Python 3 (ipykernel)",
   "language": "python",
   "name": "python3"
  },
  "language_info": {
   "codemirror_mode": {
    "name": "ipython",
    "version": 3
   },
   "file_extension": ".py",
   "mimetype": "text/x-python",
   "name": "python",
   "nbconvert_exporter": "python",
   "pygments_lexer": "ipython3",
   "version": "3.9.12"
  }
 },
 "nbformat": 4,

}
